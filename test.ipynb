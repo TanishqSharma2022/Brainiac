{
 "cells": [
  {
   "cell_type": "code",
   "id": "initial_id",
   "metadata": {
    "collapsed": true,
    "ExecuteTime": {
     "end_time": "2025-05-17T17:24:29.444715Z",
     "start_time": "2025-05-17T17:24:25.109510Z"
    }
   },
   "source": "from machine import *",
   "outputs": [],
   "execution_count": 1
  },
  {
   "metadata": {
    "ExecuteTime": {
     "end_time": "2025-05-17T17:24:31.622700Z",
     "start_time": "2025-05-17T17:24:30.294001Z"
    }
   },
   "cell_type": "code",
   "source": [
    "import requests\n",
    "\n",
    "username = 'tanishq22@iiserb.ac.in'\n",
    "password = 'T@n!&hq@251004'\n",
    "\n",
    "# Create a session to persistently store the headers\n",
    "s = requests.Session()\n",
    "\n",
    "# Save credentials into session\n",
    "s.auth = (username, password)\n",
    "\n",
    "# Send a POST request to the /authentication API\n",
    "response = s.post('https://api.worldquantbrain.com/authentication')\n",
    "print(response.content)\n"
   ],
   "id": "eb4a9be121d8eeb4",
   "outputs": [
    {
     "name": "stdout",
     "output_type": "stream",
     "text": [
      "b'{\"user\":{\"id\":\"TS29980\"},\"token\":{\"expiry\":14400.0},\"permissions\":[\"BEFORE_AND_AFTER_PERFORMANCE_V2\",\"TUTORIAL\",\"WORKDAY\"]}'\n"
     ]
    }
   ],
   "execution_count": 2
  },
  {
   "metadata": {
    "ExecuteTime": {
     "end_time": "2025-05-17T17:24:32.624291Z",
     "start_time": "2025-05-17T17:24:32.618578Z"
    }
   },
   "cell_type": "code",
   "source": [
    "def get_datasets(\n",
    "    s,\n",
    "    instrument_type: str = 'EQUITY',\n",
    "    region: str = 'USA',\n",
    "    delay: int = 1,\n",
    "    universe: str = 'TOP3000'\n",
    "):\n",
    "    url = \"https://api.worldquantbrain.com/data-sets?\" +\\\n",
    "        f\"instrumentType={instrument_type}&region={region}&delay={str(delay)}&universe={universe}\"\n",
    "    result = s.get(url)\n",
    "    datasets_df = pd.DataFrame(result.json()['results'])\n",
    "    return datasets_df"
   ],
   "id": "bea7d4ff0f773592",
   "outputs": [],
   "execution_count": 3
  },
  {
   "metadata": {
    "ExecuteTime": {
     "end_time": "2025-05-17T17:24:34.335383Z",
     "start_time": "2025-05-17T17:24:33.849468Z"
    }
   },
   "cell_type": "code",
   "source": [
    "datasets_df = get_datasets(s) # by default we load all datasets USA TOP3000 delay 1\n",
    "datasets_df.head() # DataFrame.head() shows first 5 rows of the dataframe"
   ],
   "id": "65caee88721cbd2a",
   "outputs": [
    {
     "data": {
      "text/plain": [
       "             id                                 name  \\\n",
       "0      analyst4     Analyst Estimate Data for Equity   \n",
       "1  fundamental2                     Report Footnotes   \n",
       "2  fundamental6  Company Fundamental Data for Equity   \n",
       "3       model16                   Fundamental Scores   \n",
       "4       model51              Systematic Risk Metrics   \n",
       "\n",
       "                                         description  \\\n",
       "0  This dataset provides details and aggregations...   \n",
       "1  This dataset holds fundamental items included ...   \n",
       "2  Fundamental database covers most of the world'...   \n",
       "3  This dataset ranks stocks based on fundamental...   \n",
       "4  This is a risk-model data offering several met...   \n",
       "\n",
       "                                       category  \\\n",
       "0          {'id': 'analyst', 'name': 'Analyst'}   \n",
       "1  {'id': 'fundamental', 'name': 'Fundamental'}   \n",
       "2  {'id': 'fundamental', 'name': 'Fundamental'}   \n",
       "3              {'id': 'model', 'name': 'Model'}   \n",
       "4              {'id': 'model', 'name': 'Model'}   \n",
       "\n",
       "                                         subcategory region  delay universe  \\\n",
       "0  {'id': 'analyst-analyst-estimates', 'name': 'A...    USA      1  TOP3000   \n",
       "1  {'id': 'fundamental-footnotes', 'name': 'Footn...    USA      1  TOP3000   \n",
       "2  {'id': 'fundamental-fundamental-data', 'name':...    USA      1  TOP3000   \n",
       "3  {'id': 'model-valuation-models', 'name': 'Valu...    USA      1  TOP3000   \n",
       "4  {'id': 'model-risk-models', 'name': 'Risk Mode...    USA      1  TOP3000   \n",
       "\n",
       "   coverage  valueScore  userCount  alphaCount  fieldCount themes  \\\n",
       "0    0.6036         1.0       9217      107810         350     []   \n",
       "1    0.4089         1.0      13786       54496         318     []   \n",
       "2    0.7445         1.0      33014      269081         886     []   \n",
       "3    0.3077         1.0        356        1038           8     []   \n",
       "4    0.7724         1.0       2324        8430          16     []   \n",
       "\n",
       "                                      researchPapers  \n",
       "0                                                 []  \n",
       "1                                                 []  \n",
       "2  [{'type': 'research', 'title': 'Research Paper...  \n",
       "3  [{'type': 'research', 'title': 'Research Paper...  \n",
       "4                                                 []  "
      ],
      "text/html": [
       "<div>\n",
       "<style scoped>\n",
       "    .dataframe tbody tr th:only-of-type {\n",
       "        vertical-align: middle;\n",
       "    }\n",
       "\n",
       "    .dataframe tbody tr th {\n",
       "        vertical-align: top;\n",
       "    }\n",
       "\n",
       "    .dataframe thead th {\n",
       "        text-align: right;\n",
       "    }\n",
       "</style>\n",
       "<table border=\"1\" class=\"dataframe\">\n",
       "  <thead>\n",
       "    <tr style=\"text-align: right;\">\n",
       "      <th></th>\n",
       "      <th>id</th>\n",
       "      <th>name</th>\n",
       "      <th>description</th>\n",
       "      <th>category</th>\n",
       "      <th>subcategory</th>\n",
       "      <th>region</th>\n",
       "      <th>delay</th>\n",
       "      <th>universe</th>\n",
       "      <th>coverage</th>\n",
       "      <th>valueScore</th>\n",
       "      <th>userCount</th>\n",
       "      <th>alphaCount</th>\n",
       "      <th>fieldCount</th>\n",
       "      <th>themes</th>\n",
       "      <th>researchPapers</th>\n",
       "    </tr>\n",
       "  </thead>\n",
       "  <tbody>\n",
       "    <tr>\n",
       "      <th>0</th>\n",
       "      <td>analyst4</td>\n",
       "      <td>Analyst Estimate Data for Equity</td>\n",
       "      <td>This dataset provides details and aggregations...</td>\n",
       "      <td>{'id': 'analyst', 'name': 'Analyst'}</td>\n",
       "      <td>{'id': 'analyst-analyst-estimates', 'name': 'A...</td>\n",
       "      <td>USA</td>\n",
       "      <td>1</td>\n",
       "      <td>TOP3000</td>\n",
       "      <td>0.6036</td>\n",
       "      <td>1.0</td>\n",
       "      <td>9217</td>\n",
       "      <td>107810</td>\n",
       "      <td>350</td>\n",
       "      <td>[]</td>\n",
       "      <td>[]</td>\n",
       "    </tr>\n",
       "    <tr>\n",
       "      <th>1</th>\n",
       "      <td>fundamental2</td>\n",
       "      <td>Report Footnotes</td>\n",
       "      <td>This dataset holds fundamental items included ...</td>\n",
       "      <td>{'id': 'fundamental', 'name': 'Fundamental'}</td>\n",
       "      <td>{'id': 'fundamental-footnotes', 'name': 'Footn...</td>\n",
       "      <td>USA</td>\n",
       "      <td>1</td>\n",
       "      <td>TOP3000</td>\n",
       "      <td>0.4089</td>\n",
       "      <td>1.0</td>\n",
       "      <td>13786</td>\n",
       "      <td>54496</td>\n",
       "      <td>318</td>\n",
       "      <td>[]</td>\n",
       "      <td>[]</td>\n",
       "    </tr>\n",
       "    <tr>\n",
       "      <th>2</th>\n",
       "      <td>fundamental6</td>\n",
       "      <td>Company Fundamental Data for Equity</td>\n",
       "      <td>Fundamental database covers most of the world'...</td>\n",
       "      <td>{'id': 'fundamental', 'name': 'Fundamental'}</td>\n",
       "      <td>{'id': 'fundamental-fundamental-data', 'name':...</td>\n",
       "      <td>USA</td>\n",
       "      <td>1</td>\n",
       "      <td>TOP3000</td>\n",
       "      <td>0.7445</td>\n",
       "      <td>1.0</td>\n",
       "      <td>33014</td>\n",
       "      <td>269081</td>\n",
       "      <td>886</td>\n",
       "      <td>[]</td>\n",
       "      <td>[{'type': 'research', 'title': 'Research Paper...</td>\n",
       "    </tr>\n",
       "    <tr>\n",
       "      <th>3</th>\n",
       "      <td>model16</td>\n",
       "      <td>Fundamental Scores</td>\n",
       "      <td>This dataset ranks stocks based on fundamental...</td>\n",
       "      <td>{'id': 'model', 'name': 'Model'}</td>\n",
       "      <td>{'id': 'model-valuation-models', 'name': 'Valu...</td>\n",
       "      <td>USA</td>\n",
       "      <td>1</td>\n",
       "      <td>TOP3000</td>\n",
       "      <td>0.3077</td>\n",
       "      <td>1.0</td>\n",
       "      <td>356</td>\n",
       "      <td>1038</td>\n",
       "      <td>8</td>\n",
       "      <td>[]</td>\n",
       "      <td>[{'type': 'research', 'title': 'Research Paper...</td>\n",
       "    </tr>\n",
       "    <tr>\n",
       "      <th>4</th>\n",
       "      <td>model51</td>\n",
       "      <td>Systematic Risk Metrics</td>\n",
       "      <td>This is a risk-model data offering several met...</td>\n",
       "      <td>{'id': 'model', 'name': 'Model'}</td>\n",
       "      <td>{'id': 'model-risk-models', 'name': 'Risk Mode...</td>\n",
       "      <td>USA</td>\n",
       "      <td>1</td>\n",
       "      <td>TOP3000</td>\n",
       "      <td>0.7724</td>\n",
       "      <td>1.0</td>\n",
       "      <td>2324</td>\n",
       "      <td>8430</td>\n",
       "      <td>16</td>\n",
       "      <td>[]</td>\n",
       "      <td>[]</td>\n",
       "    </tr>\n",
       "  </tbody>\n",
       "</table>\n",
       "</div>"
      ]
     },
     "execution_count": 4,
     "metadata": {},
     "output_type": "execute_result"
    }
   ],
   "execution_count": 4
  },
  {
   "metadata": {
    "ExecuteTime": {
     "end_time": "2025-05-17T17:24:35.235395Z",
     "start_time": "2025-05-17T17:24:35.228375Z"
    }
   },
   "cell_type": "code",
   "source": [
    "datasets = datasets_df[datasets_df['alphaCount']>10000]\n",
    "len(datasets)"
   ],
   "id": "6394b571e80e94d5",
   "outputs": [
    {
     "data": {
      "text/plain": [
       "11"
      ]
     },
     "execution_count": 5,
     "metadata": {},
     "output_type": "execute_result"
    }
   ],
   "execution_count": 5
  },
  {
   "metadata": {
    "ExecuteTime": {
     "end_time": "2025-05-17T17:13:30.598783Z",
     "start_time": "2025-05-17T17:13:30.565637Z"
    }
   },
   "cell_type": "code",
   "source": "datasets",
   "id": "10b611efbc2fc3a",
   "outputs": [
    {
     "data": {
      "text/plain": [
       "               id                                 name  \\\n",
       "0        analyst4     Analyst Estimate Data for Equity   \n",
       "1    fundamental2                     Report Footnotes   \n",
       "2    fundamental6  Company Fundamental Data for Equity   \n",
       "5         model77               Analysts' Factor Model   \n",
       "6          news12                         US News Data   \n",
       "7          news18                  Ravenpack News Data   \n",
       "8         option8                      Volatility Data   \n",
       "9         option9                    Options Analytics   \n",
       "10            pv1         Price Volume Data for Equity   \n",
       "11           pv13         Relationship Data for Equity   \n",
       "13  socialmedia12            Sentiment Data for Equity   \n",
       "\n",
       "                                          description  \\\n",
       "0   This dataset provides details and aggregations...   \n",
       "1   This dataset holds fundamental items included ...   \n",
       "2   Fundamental database covers most of the world'...   \n",
       "5   Factor model dataset based on anaysts' evaluation   \n",
       "6   This dataset specializes in matching financial...   \n",
       "7   This dataset provides news sentiment and other...   \n",
       "8   This is an option dataset which provides histo...   \n",
       "9   This dataset provide options metrics indicatin...   \n",
       "10  A dataset containing price, volume, close, ope...   \n",
       "11  The dataset outputs various classifications an...   \n",
       "13  This dataset provides sentiment data with diff...   \n",
       "\n",
       "                                         category  \\\n",
       "0            {'id': 'analyst', 'name': 'Analyst'}   \n",
       "1    {'id': 'fundamental', 'name': 'Fundamental'}   \n",
       "2    {'id': 'fundamental', 'name': 'Fundamental'}   \n",
       "5                {'id': 'model', 'name': 'Model'}   \n",
       "6                  {'id': 'news', 'name': 'News'}   \n",
       "7                  {'id': 'news', 'name': 'News'}   \n",
       "8              {'id': 'option', 'name': 'Option'}   \n",
       "9              {'id': 'option', 'name': 'Option'}   \n",
       "10           {'id': 'pv', 'name': 'Price Volume'}   \n",
       "11           {'id': 'pv', 'name': 'Price Volume'}   \n",
       "13  {'id': 'socialmedia', 'name': 'Social Media'}   \n",
       "\n",
       "                                          subcategory region  delay universe  \\\n",
       "0   {'id': 'analyst-analyst-estimates', 'name': 'A...    USA      1  TOP3000   \n",
       "1   {'id': 'fundamental-footnotes', 'name': 'Footn...    USA      1  TOP3000   \n",
       "2   {'id': 'fundamental-fundamental-data', 'name':...    USA      1  TOP3000   \n",
       "5   {'id': 'model-technical-models', 'name': 'Tech...    USA      1  TOP3000   \n",
       "6                 {'id': 'news-news', 'name': 'News'}    USA      1  TOP3000   \n",
       "7   {'id': 'news-news-sentiment', 'name': 'News Se...    USA      1  TOP3000   \n",
       "8   {'id': 'option-option-volatility', 'name': 'Op...    USA      1  TOP3000   \n",
       "9   {'id': 'option-option-analytics', 'name': 'Opt...    USA      1  TOP3000   \n",
       "10  {'id': 'pv-price-volume', 'name': 'Price Volume'}    USA      1  TOP3000   \n",
       "11  {'id': 'pv-relationship', 'name': 'Relationship'}    USA      1  TOP3000   \n",
       "13  {'id': 'socialmedia-social-media', 'name': 'So...    USA      1  TOP3000   \n",
       "\n",
       "    coverage  valueScore  userCount  alphaCount  fieldCount themes  \\\n",
       "0     0.6036         1.0       9217      107810         350     []   \n",
       "1     0.4089         1.0      13786       54496         318     []   \n",
       "2     0.7445         1.0      33014      269081         886     []   \n",
       "5     0.8073         2.0        956       31430        1546     []   \n",
       "6     0.8034         1.0       9402       46257         322     []   \n",
       "7     0.6779         1.0       1612       13894          75     []   \n",
       "8     0.6948         1.0       9212       39463          64     []   \n",
       "9     0.7039         1.0       6312       22356          74     []   \n",
       "10    1.0000         1.0      34916      631341          20     []   \n",
       "11    0.8109         1.0       5432       36818         168     []   \n",
       "13    0.9645         1.0      10216       21613          12     []   \n",
       "\n",
       "                                       researchPapers  \n",
       "0                                                  []  \n",
       "1                                                  []  \n",
       "2   [{'type': 'research', 'title': 'Research Paper...  \n",
       "5                                                  []  \n",
       "6                                                  []  \n",
       "7   [{'type': 'research', 'title': 'Research Paper...  \n",
       "8                                                  []  \n",
       "9   [{'type': 'research', 'title': 'Research Paper...  \n",
       "10  [{'type': 'research', 'title': 'Research Paper...  \n",
       "11                                                 []  \n",
       "13  [{'type': 'research', 'title': 'Research Paper...  "
      ],
      "text/html": [
       "<div>\n",
       "<style scoped>\n",
       "    .dataframe tbody tr th:only-of-type {\n",
       "        vertical-align: middle;\n",
       "    }\n",
       "\n",
       "    .dataframe tbody tr th {\n",
       "        vertical-align: top;\n",
       "    }\n",
       "\n",
       "    .dataframe thead th {\n",
       "        text-align: right;\n",
       "    }\n",
       "</style>\n",
       "<table border=\"1\" class=\"dataframe\">\n",
       "  <thead>\n",
       "    <tr style=\"text-align: right;\">\n",
       "      <th></th>\n",
       "      <th>id</th>\n",
       "      <th>name</th>\n",
       "      <th>description</th>\n",
       "      <th>category</th>\n",
       "      <th>subcategory</th>\n",
       "      <th>region</th>\n",
       "      <th>delay</th>\n",
       "      <th>universe</th>\n",
       "      <th>coverage</th>\n",
       "      <th>valueScore</th>\n",
       "      <th>userCount</th>\n",
       "      <th>alphaCount</th>\n",
       "      <th>fieldCount</th>\n",
       "      <th>themes</th>\n",
       "      <th>researchPapers</th>\n",
       "    </tr>\n",
       "  </thead>\n",
       "  <tbody>\n",
       "    <tr>\n",
       "      <th>0</th>\n",
       "      <td>analyst4</td>\n",
       "      <td>Analyst Estimate Data for Equity</td>\n",
       "      <td>This dataset provides details and aggregations...</td>\n",
       "      <td>{'id': 'analyst', 'name': 'Analyst'}</td>\n",
       "      <td>{'id': 'analyst-analyst-estimates', 'name': 'A...</td>\n",
       "      <td>USA</td>\n",
       "      <td>1</td>\n",
       "      <td>TOP3000</td>\n",
       "      <td>0.6036</td>\n",
       "      <td>1.0</td>\n",
       "      <td>9217</td>\n",
       "      <td>107810</td>\n",
       "      <td>350</td>\n",
       "      <td>[]</td>\n",
       "      <td>[]</td>\n",
       "    </tr>\n",
       "    <tr>\n",
       "      <th>1</th>\n",
       "      <td>fundamental2</td>\n",
       "      <td>Report Footnotes</td>\n",
       "      <td>This dataset holds fundamental items included ...</td>\n",
       "      <td>{'id': 'fundamental', 'name': 'Fundamental'}</td>\n",
       "      <td>{'id': 'fundamental-footnotes', 'name': 'Footn...</td>\n",
       "      <td>USA</td>\n",
       "      <td>1</td>\n",
       "      <td>TOP3000</td>\n",
       "      <td>0.4089</td>\n",
       "      <td>1.0</td>\n",
       "      <td>13786</td>\n",
       "      <td>54496</td>\n",
       "      <td>318</td>\n",
       "      <td>[]</td>\n",
       "      <td>[]</td>\n",
       "    </tr>\n",
       "    <tr>\n",
       "      <th>2</th>\n",
       "      <td>fundamental6</td>\n",
       "      <td>Company Fundamental Data for Equity</td>\n",
       "      <td>Fundamental database covers most of the world'...</td>\n",
       "      <td>{'id': 'fundamental', 'name': 'Fundamental'}</td>\n",
       "      <td>{'id': 'fundamental-fundamental-data', 'name':...</td>\n",
       "      <td>USA</td>\n",
       "      <td>1</td>\n",
       "      <td>TOP3000</td>\n",
       "      <td>0.7445</td>\n",
       "      <td>1.0</td>\n",
       "      <td>33014</td>\n",
       "      <td>269081</td>\n",
       "      <td>886</td>\n",
       "      <td>[]</td>\n",
       "      <td>[{'type': 'research', 'title': 'Research Paper...</td>\n",
       "    </tr>\n",
       "    <tr>\n",
       "      <th>5</th>\n",
       "      <td>model77</td>\n",
       "      <td>Analysts' Factor Model</td>\n",
       "      <td>Factor model dataset based on anaysts' evaluation</td>\n",
       "      <td>{'id': 'model', 'name': 'Model'}</td>\n",
       "      <td>{'id': 'model-technical-models', 'name': 'Tech...</td>\n",
       "      <td>USA</td>\n",
       "      <td>1</td>\n",
       "      <td>TOP3000</td>\n",
       "      <td>0.8073</td>\n",
       "      <td>2.0</td>\n",
       "      <td>956</td>\n",
       "      <td>31430</td>\n",
       "      <td>1546</td>\n",
       "      <td>[]</td>\n",
       "      <td>[]</td>\n",
       "    </tr>\n",
       "    <tr>\n",
       "      <th>6</th>\n",
       "      <td>news12</td>\n",
       "      <td>US News Data</td>\n",
       "      <td>This dataset specializes in matching financial...</td>\n",
       "      <td>{'id': 'news', 'name': 'News'}</td>\n",
       "      <td>{'id': 'news-news', 'name': 'News'}</td>\n",
       "      <td>USA</td>\n",
       "      <td>1</td>\n",
       "      <td>TOP3000</td>\n",
       "      <td>0.8034</td>\n",
       "      <td>1.0</td>\n",
       "      <td>9402</td>\n",
       "      <td>46257</td>\n",
       "      <td>322</td>\n",
       "      <td>[]</td>\n",
       "      <td>[]</td>\n",
       "    </tr>\n",
       "    <tr>\n",
       "      <th>7</th>\n",
       "      <td>news18</td>\n",
       "      <td>Ravenpack News Data</td>\n",
       "      <td>This dataset provides news sentiment and other...</td>\n",
       "      <td>{'id': 'news', 'name': 'News'}</td>\n",
       "      <td>{'id': 'news-news-sentiment', 'name': 'News Se...</td>\n",
       "      <td>USA</td>\n",
       "      <td>1</td>\n",
       "      <td>TOP3000</td>\n",
       "      <td>0.6779</td>\n",
       "      <td>1.0</td>\n",
       "      <td>1612</td>\n",
       "      <td>13894</td>\n",
       "      <td>75</td>\n",
       "      <td>[]</td>\n",
       "      <td>[{'type': 'research', 'title': 'Research Paper...</td>\n",
       "    </tr>\n",
       "    <tr>\n",
       "      <th>8</th>\n",
       "      <td>option8</td>\n",
       "      <td>Volatility Data</td>\n",
       "      <td>This is an option dataset which provides histo...</td>\n",
       "      <td>{'id': 'option', 'name': 'Option'}</td>\n",
       "      <td>{'id': 'option-option-volatility', 'name': 'Op...</td>\n",
       "      <td>USA</td>\n",
       "      <td>1</td>\n",
       "      <td>TOP3000</td>\n",
       "      <td>0.6948</td>\n",
       "      <td>1.0</td>\n",
       "      <td>9212</td>\n",
       "      <td>39463</td>\n",
       "      <td>64</td>\n",
       "      <td>[]</td>\n",
       "      <td>[]</td>\n",
       "    </tr>\n",
       "    <tr>\n",
       "      <th>9</th>\n",
       "      <td>option9</td>\n",
       "      <td>Options Analytics</td>\n",
       "      <td>This dataset provide options metrics indicatin...</td>\n",
       "      <td>{'id': 'option', 'name': 'Option'}</td>\n",
       "      <td>{'id': 'option-option-analytics', 'name': 'Opt...</td>\n",
       "      <td>USA</td>\n",
       "      <td>1</td>\n",
       "      <td>TOP3000</td>\n",
       "      <td>0.7039</td>\n",
       "      <td>1.0</td>\n",
       "      <td>6312</td>\n",
       "      <td>22356</td>\n",
       "      <td>74</td>\n",
       "      <td>[]</td>\n",
       "      <td>[{'type': 'research', 'title': 'Research Paper...</td>\n",
       "    </tr>\n",
       "    <tr>\n",
       "      <th>10</th>\n",
       "      <td>pv1</td>\n",
       "      <td>Price Volume Data for Equity</td>\n",
       "      <td>A dataset containing price, volume, close, ope...</td>\n",
       "      <td>{'id': 'pv', 'name': 'Price Volume'}</td>\n",
       "      <td>{'id': 'pv-price-volume', 'name': 'Price Volume'}</td>\n",
       "      <td>USA</td>\n",
       "      <td>1</td>\n",
       "      <td>TOP3000</td>\n",
       "      <td>1.0000</td>\n",
       "      <td>1.0</td>\n",
       "      <td>34916</td>\n",
       "      <td>631341</td>\n",
       "      <td>20</td>\n",
       "      <td>[]</td>\n",
       "      <td>[{'type': 'research', 'title': 'Research Paper...</td>\n",
       "    </tr>\n",
       "    <tr>\n",
       "      <th>11</th>\n",
       "      <td>pv13</td>\n",
       "      <td>Relationship Data for Equity</td>\n",
       "      <td>The dataset outputs various classifications an...</td>\n",
       "      <td>{'id': 'pv', 'name': 'Price Volume'}</td>\n",
       "      <td>{'id': 'pv-relationship', 'name': 'Relationship'}</td>\n",
       "      <td>USA</td>\n",
       "      <td>1</td>\n",
       "      <td>TOP3000</td>\n",
       "      <td>0.8109</td>\n",
       "      <td>1.0</td>\n",
       "      <td>5432</td>\n",
       "      <td>36818</td>\n",
       "      <td>168</td>\n",
       "      <td>[]</td>\n",
       "      <td>[]</td>\n",
       "    </tr>\n",
       "    <tr>\n",
       "      <th>13</th>\n",
       "      <td>socialmedia12</td>\n",
       "      <td>Sentiment Data for Equity</td>\n",
       "      <td>This dataset provides sentiment data with diff...</td>\n",
       "      <td>{'id': 'socialmedia', 'name': 'Social Media'}</td>\n",
       "      <td>{'id': 'socialmedia-social-media', 'name': 'So...</td>\n",
       "      <td>USA</td>\n",
       "      <td>1</td>\n",
       "      <td>TOP3000</td>\n",
       "      <td>0.9645</td>\n",
       "      <td>1.0</td>\n",
       "      <td>10216</td>\n",
       "      <td>21613</td>\n",
       "      <td>12</td>\n",
       "      <td>[]</td>\n",
       "      <td>[{'type': 'research', 'title': 'Research Paper...</td>\n",
       "    </tr>\n",
       "  </tbody>\n",
       "</table>\n",
       "</div>"
      ]
     },
     "execution_count": 21,
     "metadata": {},
     "output_type": "execute_result"
    }
   ],
   "execution_count": 21
  },
  {
   "metadata": {
    "ExecuteTime": {
     "end_time": "2025-05-17T17:13:32.416019Z",
     "start_time": "2025-05-17T17:13:32.410455Z"
    }
   },
   "cell_type": "code",
   "source": "len(datasets_df)",
   "id": "ac72955e3ec56f4c",
   "outputs": [
    {
     "data": {
      "text/plain": [
       "16"
      ]
     },
     "execution_count": 22,
     "metadata": {},
     "output_type": "execute_result"
    }
   ],
   "execution_count": 22
  },
  {
   "metadata": {
    "ExecuteTime": {
     "end_time": "2025-05-17T17:25:16.919745Z",
     "start_time": "2025-05-17T17:24:45.493633Z"
    }
   },
   "cell_type": "code",
   "source": [
    "pc_fields = []\n",
    "matrix = []\n",
    "vector = []\n",
    "for dd in datasets['id']:\n",
    "    df = get_datafields(s, dataset_id = dd, region='USA', universe='TOP3000', delay=1)\n",
    "    df_matrix = process_datafields(df, \"matrix\")\n",
    "    df_vector= process_datafields(df, \"vector\")\n",
    "    print(len(df_matrix))\n",
    "    print(len(df_vector))\n",
    "    matrix.append(df_matrix)\n",
    "    vector.append(df_vector)\n",
    "    # pc_fields = pc_fields + temp\n"
   ],
   "id": "efd55b1abde41696",
   "outputs": [
    {
     "name": "stdout",
     "output_type": "stream",
     "text": [
      "202\n",
      "1332\n",
      "318\n",
      "0\n",
      "574\n",
      "2808\n",
      "1546\n",
      "0\n",
      "75\n",
      "2223\n",
      "61\n",
      "126\n",
      "64\n",
      "0\n",
      "74\n",
      "0\n",
      "12\n",
      "0\n",
      "28\n",
      "45\n",
      "6\n",
      "54\n"
     ]
    }
   ],
   "execution_count": 6
  },
  {
   "metadata": {
    "ExecuteTime": {
     "end_time": "2025-05-17T17:25:54.386221Z",
     "start_time": "2025-05-17T17:25:54.382515Z"
    }
   },
   "cell_type": "code",
   "source": "import numpy as np",
   "id": "177bb107df42948a",
   "outputs": [],
   "execution_count": 11
  },
  {
   "metadata": {
    "ExecuteTime": {
     "end_time": "2025-05-17T17:27:03.267054Z",
     "start_time": "2025-05-17T17:27:03.262492Z"
    }
   },
   "cell_type": "code",
   "source": [
    "x = []\n",
    "for i in matrix:\n",
    "    for j in i:\n",
    "        x.append(j)"
   ],
   "id": "1bbae545c64d9ab",
   "outputs": [],
   "execution_count": 15
  },
  {
   "metadata": {
    "ExecuteTime": {
     "end_time": "2025-05-17T17:27:06.462707Z",
     "start_time": "2025-05-17T17:27:06.457915Z"
    }
   },
   "cell_type": "code",
   "source": "len(x)",
   "id": "e1080958c8325f33",
   "outputs": [
    {
     "data": {
      "text/plain": [
       "2960"
      ]
     },
     "execution_count": 16,
     "metadata": {},
     "output_type": "execute_result"
    }
   ],
   "execution_count": 16
  },
  {
   "metadata": {
    "ExecuteTime": {
     "end_time": "2025-05-17T17:27:23.468122Z",
     "start_time": "2025-05-17T17:27:23.463126Z"
    }
   },
   "cell_type": "code",
   "source": [
    "y = []\n",
    "for i in vector:\n",
    "    for j in i:\n",
    "        y.append(j)"
   ],
   "id": "2c3898f9b5fb034e",
   "outputs": [],
   "execution_count": 17
  },
  {
   "metadata": {
    "ExecuteTime": {
     "end_time": "2025-05-17T17:27:26.186019Z",
     "start_time": "2025-05-17T17:27:26.180539Z"
    }
   },
   "cell_type": "code",
   "source": "len(y)",
   "id": "ec2d97a2119e0972",
   "outputs": [
    {
     "data": {
      "text/plain": [
       "6588"
      ]
     },
     "execution_count": 18,
     "metadata": {},
     "output_type": "execute_result"
    }
   ],
   "execution_count": 18
  },
  {
   "metadata": {
    "ExecuteTime": {
     "end_time": "2025-05-17T17:29:31.781430Z",
     "start_time": "2025-05-17T17:29:31.774801Z"
    }
   },
   "cell_type": "code",
   "source": [
    "with open(\"output.txt\", \"a\") as f:\n",
    "    f.write(\"matrix:\" +  str(x) + \"\\n\")\n"
   ],
   "id": "503464181ad13a60",
   "outputs": [],
   "execution_count": 21
  },
  {
   "metadata": {
    "ExecuteTime": {
     "end_time": "2025-05-17T17:29:43.274795Z",
     "start_time": "2025-05-17T17:29:43.264611Z"
    }
   },
   "cell_type": "code",
   "source": [
    "with open(\"output.txt\", \"a\") as f:\n",
    "    f.write(\"vector:\" +  str(y) + \"\\n\")\n"
   ],
   "id": "7141c6a3c08f18b0",
   "outputs": [],
   "execution_count": 22
  },
  {
   "metadata": {
    "ExecuteTime": {
     "end_time": "2025-05-17T17:52:50.977850Z",
     "start_time": "2025-05-17T17:52:43.443219Z"
    }
   },
   "cell_type": "code",
   "source": "df = get_datafields(s, dataset_id = datasets['id'][2], region='USA', universe='TOP3000', delay=1)",
   "id": "5805cf2a5ab934e",
   "outputs": [],
   "execution_count": 25
  },
  {
   "metadata": {
    "ExecuteTime": {
     "end_time": "2025-05-17T18:00:25.698094Z",
     "start_time": "2025-05-17T17:59:52.989932Z"
    }
   },
   "cell_type": "code",
   "source": [
    "# df_1 = pd.DataFrame()\n",
    "sum = 0\n",
    "for dd in datasets['id']:\n",
    "    df = get_datafields(s, dataset_id = dd, region='USA', universe='TOP3000', delay=1)\n",
    "    # df.to_csv(\"output.csv\", mode='a', header=False)\n",
    "    sum += len(df)"
   ],
   "id": "ccd2e7da9f580d52",
   "outputs": [],
   "execution_count": 32
  },
  {
   "metadata": {
    "ExecuteTime": {
     "end_time": "2025-05-17T18:00:29.117809Z",
     "start_time": "2025-05-17T18:00:29.111842Z"
    }
   },
   "cell_type": "code",
   "source": "sum",
   "id": "639df3b637b4a3a6",
   "outputs": [
    {
     "data": {
      "text/plain": [
       "3835"
      ]
     },
     "execution_count": 33,
     "metadata": {},
     "output_type": "execute_result"
    }
   ],
   "execution_count": 33
  },
  {
   "metadata": {},
   "cell_type": "code",
   "outputs": [],
   "execution_count": null,
   "source": "",
   "id": "eb5bea9a6f4abb01"
  }
 ],
 "metadata": {
  "kernelspec": {
   "display_name": "Python 3",
   "language": "python",
   "name": "python3"
  },
  "language_info": {
   "codemirror_mode": {
    "name": "ipython",
    "version": 2
   },
   "file_extension": ".py",
   "mimetype": "text/x-python",
   "name": "python",
   "nbconvert_exporter": "python",
   "pygments_lexer": "ipython2",
   "version": "2.7.6"
  }
 },
 "nbformat": 4,
 "nbformat_minor": 5
}
